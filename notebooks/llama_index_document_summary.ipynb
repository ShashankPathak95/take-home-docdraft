{
  "cells": [
    {
      "cell_type": "markdown",
      "id": "20de0e22",
      "metadata": {
        "id": "20de0e22"
      },
      "source": [
        "<a href=\"https://colab.research.google.com/github/jerryjliu/llama_index/blob/main/docs/examples/index_structs/doc_summary/DocSummary.ipynb\" target=\"_parent\"><img src=\"https://colab.research.google.com/assets/colab-badge.svg\" alt=\"Open In Colab\"/></a>"
      ]
    },
    {
      "cell_type": "markdown",
      "id": "ade42be5-7813-4aa6-9f4f-aad4318d4175",
      "metadata": {
        "id": "ade42be5-7813-4aa6-9f4f-aad4318d4175"
      },
      "source": [
        "# Document Summary Index\n",
        "\n",
        "This demo showcases the document summary index, over Wikipedia articles on different cities.\n",
        "\n",
        "The document summary index will extract a summary from each document and store that summary, as well as all nodes corresponding to the document.\n",
        "\n",
        "Retrieval can be performed through the LLM or embeddings (which is a TODO). We first select the relevant documents to the query based on their summaries. All retrieved nodes corresponding to the selected documents are retrieved."
      ]
    },
    {
      "cell_type": "markdown",
      "id": "5b1ad99b",
      "metadata": {
        "id": "5b1ad99b"
      },
      "source": [
        "If you're opening this Notebook on colab, you will probably need to install LlamaIndex 🦙."
      ]
    },
    {
      "cell_type": "code",
      "execution_count": null,
      "id": "ed8deaa6",
      "metadata": {
        "id": "ed8deaa6"
      },
      "outputs": [],
      "source": [
        "!pip install llama-index"
      ]
    },
    {
      "cell_type": "code",
      "execution_count": null,
      "id": "d58ab2ad",
      "metadata": {
        "id": "d58ab2ad"
      },
      "outputs": [],
      "source": [
        "import os\n",
        "import openai\n",
        "\n",
        "os.environ[\"OPENAI_API_KEY\"] = \"sk-...\"\n",
        "openai.api_key = os.environ[\"OPENAI_API_KEY\"]"
      ]
    },
    {
      "cell_type": "code",
      "execution_count": null,
      "id": "5e03a80b-6f5e-4dda-9a05-201d4fafede1",
      "metadata": {
        "id": "5e03a80b-6f5e-4dda-9a05-201d4fafede1"
      },
      "outputs": [],
      "source": [
        "import logging\n",
        "import sys\n",
        "\n",
        "logging.basicConfig(stream=sys.stdout, level=logging.WARNING)\n",
        "logging.getLogger().addHandler(logging.StreamHandler(stream=sys.stdout))\n",
        "\n",
        "# # Uncomment if you want to temporarily disable logger\n",
        "# logger = logging.getLogger()\n",
        "# logger.disabled = True"
      ]
    },
    {
      "cell_type": "code",
      "execution_count": null,
      "id": "4b6d4d55-2a2f-41d5-aa32-159d6bc406fe",
      "metadata": {
        "id": "4b6d4d55-2a2f-41d5-aa32-159d6bc406fe"
      },
      "outputs": [],
      "source": [
        "import nest_asyncio\n",
        "\n",
        "nest_asyncio.apply()"
      ]
    },
    {
      "cell_type": "code",
      "execution_count": null,
      "id": "4fb7288e-22f8-4753-a6ea-197cf2f8aba5",
      "metadata": {
        "id": "4fb7288e-22f8-4753-a6ea-197cf2f8aba5"
      },
      "outputs": [],
      "source": [
        "from llama_index import (\n",
        "    SimpleDirectoryReader,\n",
        "    ServiceContext,\n",
        "    get_response_synthesizer,\n",
        ")\n",
        "from llama_index.indices.document_summary import DocumentSummaryIndex\n",
        "from llama_index.llms import OpenAI"
      ]
    },
    {
      "cell_type": "markdown",
      "id": "8c391a70-7690-4bbd-a2dc-f95b845991a7",
      "metadata": {
        "id": "8c391a70-7690-4bbd-a2dc-f95b845991a7"
      },
      "source": [
        "### Load Datasets\n",
        "\n",
        "Load Wikipedia pages on different cities"
      ]
    },
    {
      "cell_type": "code",
      "execution_count": null,
      "id": "23ae10cc-f552-434c-9133-e4adf6642198",
      "metadata": {
        "id": "23ae10cc-f552-434c-9133-e4adf6642198"
      },
      "outputs": [],
      "source": [
        "company_titles = [\"Apple\", \"Meta\", \"Google\"]"
      ]
    },
    {
      "cell_type": "code",
      "execution_count": null,
      "id": "24e0e454-218e-4937-b1f9-f1c8e2abba43",
      "metadata": {
        "id": "24e0e454-218e-4937-b1f9-f1c8e2abba43"
      },
      "outputs": [],
      "source": [
        "from pathlib import Path\n",
        "\n",
        "import requests\n",
        "\n",
        "for title in company_titles:\n",
        "    response = requests.get(\n",
        "        \"https://en.wikipedia.org/w/api.php\",\n",
        "        params={\n",
        "            \"action\": \"query\",\n",
        "            \"format\": \"json\",\n",
        "            \"titles\": title,\n",
        "            \"prop\": \"extracts\",\n",
        "            # 'exintro': True,\n",
        "            \"explaintext\": True,\n",
        "        },\n",
        "    ).json()\n",
        "    page = next(iter(response[\"query\"][\"pages\"].values()))\n",
        "    wiki_text = page[\"extract\"]\n",
        "\n",
        "    data_path = Path(\"data\")\n",
        "    if not data_path.exists():\n",
        "        Path.mkdir(data_path)\n",
        "\n",
        "    with open(data_path / f\"{title}.txt\", \"w\") as fp:\n",
        "        fp.write(wiki_text)"
      ]
    },
    {
      "cell_type": "code",
      "execution_count": null,
      "id": "6f765eee-0c80-476c-b1f2-b96b5dd176db",
      "metadata": {
        "id": "6f765eee-0c80-476c-b1f2-b96b5dd176db"
      },
      "outputs": [],
      "source": [
        "# Load all wiki documents\n",
        "fin_docs = []\n",
        "for wiki_title in wiki_titles:\n",
        "    docs = SimpleDirectoryReader(\n",
        "        input_files=[f\"data/{wiki_title}.txt\"]\n",
        "    ).load_data()\n",
        "    docs[0].doc_id = wiki_title\n",
        "    fin_docs.extend(docs)"
      ]
    },
    {
      "cell_type": "markdown",
      "id": "ef3de855-a3ee-4994-b3c0-0099fa7b5704",
      "metadata": {
        "id": "ef3de855-a3ee-4994-b3c0-0099fa7b5704"
      },
      "source": [
        "### Build Document Summary Index\n",
        "\n",
        "We show two ways of building the index:\n",
        "- default mode of building the document summary index\n",
        "- customizing the summary query\n"
      ]
    },
    {
      "cell_type": "code",
      "execution_count": null,
      "id": "e4da51df-ff9f-4141-91fe-719e00824328",
      "metadata": {
        "id": "e4da51df-ff9f-4141-91fe-719e00824328"
      },
      "outputs": [],
      "source": [
        "# LLM (gpt-3.5-turbo)\n",
        "chatgpt = OpenAI(temperature=0, model=\"gpt-3.5-turbo\")\n",
        "service_context = ServiceContext.from_defaults(llm=chatgpt, chunk_size=1024)"
      ]
    },
    {
      "cell_type": "code",
      "execution_count": null,
      "id": "93c531c9-4aee-47ae-a4d2-81af3a6af908",
      "metadata": {
        "id": "93c531c9-4aee-47ae-a4d2-81af3a6af908",
        "outputId": "fcbc2a27-e14b-487f-a46a-d1e8a76e7718",
        "colab": {
          "referenced_widgets": [
            "72184f1e1f3441ecb44d87a14ef92c66",
            "a987ce39dedc41f0a7c525c36abed5e1",
            "b5487e67751446418d8d4ce097bf0be2"
          ]
        }
      },
      "outputs": [
        {
          "data": {
            "application/vnd.jupyter.widget-view+json": {
              "model_id": "72184f1e1f3441ecb44d87a14ef92c66",
              "version_major": 2,
              "version_minor": 0
            },
            "text/plain": [
              "Parsing documents into nodes:   0%|          | 0/5 [00:00<?, ?it/s]"
            ]
          },
          "metadata": {},
          "output_type": "display_data"
        },
        {
          "data": {
            "application/vnd.jupyter.widget-view+json": {
              "model_id": "a987ce39dedc41f0a7c525c36abed5e1",
              "version_major": 2,
              "version_minor": 0
            },
            "text/plain": [
              "Summarizing documents:   0%|          | 0/5 [00:00<?, ?it/s]"
            ]
          },
          "metadata": {},
          "output_type": "display_data"
        },
        {
          "name": "stdout",
          "output_type": "stream",
          "text": [
            "current doc id: Toronto\n",
            "current doc id: Seattle\n",
            "current doc id: Chicago\n",
            "current doc id: Boston\n",
            "current doc id: Houston\n"
          ]
        },
        {
          "data": {
            "application/vnd.jupyter.widget-view+json": {
              "model_id": "b5487e67751446418d8d4ce097bf0be2",
              "version_major": 2,
              "version_minor": 0
            },
            "text/plain": [
              "Generating embeddings:   0%|          | 0/5 [00:00<?, ?it/s]"
            ]
          },
          "metadata": {},
          "output_type": "display_data"
        }
      ],
      "source": [
        "# default mode of building the index\n",
        "response_synthesizer = get_response_synthesizer(\n",
        "    response_mode=\"tree_summarize\", use_async=True\n",
        ")\n",
        "doc_summary_index = DocumentSummaryIndex.from_documents(\n",
        "    city_docs,\n",
        "    service_context=service_context,\n",
        "    response_synthesizer=response_synthesizer,\n",
        "    show_progress=True,\n",
        ")"
      ]
    },
    {
      "cell_type": "code",
      "execution_count": null,
      "id": "cf5d19a2-5fa3-4f1b-aadd-25c209cfeb75",
      "metadata": {
        "id": "cf5d19a2-5fa3-4f1b-aadd-25c209cfeb75",
        "outputId": "62123553-0bab-46c9-d529-da88ed64cdad"
      },
      "outputs": [
        {
          "data": {
            "text/plain": [
              "\"The provided text is about the city of Boston and covers various aspects of the city, including its history, geography, demographics, economy, education system, healthcare facilities, public safety, culture, environment, transportation infrastructure, and international relations. It provides information on Boston's development over time, key events in its history, its significance as a cultural and educational center, its economic sectors, neighborhoods, climate, population, ethnic diversity, landmarks and attractions, colleges and universities, healthcare facilities, public safety measures, cultural scene, annual events, environmental initiatives, churches, pollution control, water purity and availability, climate change and sea level rise, sports teams, parks and recreational areas, government and political system, media, and transportation infrastructure.\\n\\nSome questions that this text can answer include:\\n- What is the history of Boston and how did it develop over time?\\n- What were some key events that took place in Boston during the American Revolution?\\n- What is the significance of Boston in terms of education and academic research?\\n- What are some of the economic sectors that contribute to Boston's economy?\\n- How has Boston changed and evolved in the 20th and 21st centuries?\\n- What is the geography of Boston and how does it impact the city?\\n- What are the neighborhoods in Boston?\\n- What is the climate like in Boston?\\n- What is the population of Boston and its demographic breakdown?\\n- What is the economy of Boston like?\\n- What are some notable landmarks and attractions in Boston?\\n- What is the ethnic diversity of Boston?\\n- What is the religious composition of Boston?\\n- What is the impact of colleges and universities on the economy of Boston?\\n- What is the role of technology and biotechnology in Boston's economy?\\n- What healthcare facilities are located in Boston?\\n- How does Boston ensure public safety?\\n- What is the cultural scene like in Boston?\\n- What are some of the annual events in Boston?\\n- What environmental initiatives are being undertaken in Boston?\\n- What are some of the churches in Boston and their historical significance?\\n- How does Boston control pollution and maintain air quality?\\n- What is the status of water purity and availability in Boston?\\n- How is Boston addressing climate change and sea level rise?\\n- What sports teams are based in Boston and what championships have they won?\\n- What are some of the parks and recreational areas in Boston?\\n- How is the government and political system structured in Boston?\\n- What are some of the major newspapers, radio stations, and television stations in Boston?\\n- What is the transportation infrastructure in Boston, including the airport and major highways?\\n- What are some notable movies filmed in Boston?\\n- Which video games have used Boston as a setting?\\n- What are some of Boston's sister cities and partnership relationships?\\n- Where can I find more information about Boston's history and landmarks?\""
            ]
          },
          "execution_count": null,
          "metadata": {},
          "output_type": "execute_result"
        }
      ],
      "source": [
        "doc_summary_index.get_document_summary(\"Boston\")"
      ]
    },
    {
      "cell_type": "code",
      "execution_count": null,
      "id": "349c2872-2b53-4812-9392-b89e5879e32a",
      "metadata": {
        "id": "349c2872-2b53-4812-9392-b89e5879e32a"
      },
      "outputs": [],
      "source": [
        "doc_summary_index.storage_context.persist(\"index\")"
      ]
    },
    {
      "cell_type": "code",
      "execution_count": null,
      "id": "f96e6524-f8ab-4227-ad5a-3dcb3b640532",
      "metadata": {
        "id": "f96e6524-f8ab-4227-ad5a-3dcb3b640532"
      },
      "outputs": [],
      "source": [
        "from llama_index.indices.loading import load_index_from_storage\n",
        "from llama_index import StorageContext\n",
        "\n",
        "# rebuild storage context\n",
        "storage_context = StorageContext.from_defaults(persist_dir=\"index\")\n",
        "doc_summary_index = load_index_from_storage(storage_context)"
      ]
    },
    {
      "cell_type": "markdown",
      "id": "f76b3344-8e24-4e72-893b-7accd2a3fa57",
      "metadata": {
        "id": "f76b3344-8e24-4e72-893b-7accd2a3fa57"
      },
      "source": [
        "### Perform Retrieval from Document Summary Index\n",
        "\n",
        "We show how to execute queries at a high-level. We also show how to perform retrieval at a lower-level so that you can view the parameters that are in place. We show both LLM-based retrieval and embedding-based retrieval using the document summaries."
      ]
    },
    {
      "cell_type": "markdown",
      "id": "3e3f65a3-482f-4481-9933-19ac55e91719",
      "metadata": {
        "id": "3e3f65a3-482f-4481-9933-19ac55e91719"
      },
      "source": [
        "#### High-level Querying\n",
        "\n",
        "Note: this uses the default, embedding-based form of retrieval"
      ]
    },
    {
      "cell_type": "code",
      "execution_count": null,
      "id": "5e925b75-0a99-49cc-8e9a-daaf715ee490",
      "metadata": {
        "id": "5e925b75-0a99-49cc-8e9a-daaf715ee490"
      },
      "outputs": [],
      "source": [
        "query_engine = doc_summary_index.as_query_engine(\n",
        "    response_mode=\"tree_summarize\", use_async=True\n",
        ")"
      ]
    },
    {
      "cell_type": "code",
      "execution_count": null,
      "id": "c190a1e7-b85c-41cd-af42-e2521d2406a9",
      "metadata": {
        "id": "c190a1e7-b85c-41cd-af42-e2521d2406a9"
      },
      "outputs": [],
      "source": [
        "response = query_engine.query(\"What are the best selling products from Apple\")"
      ]
    },
    {
      "cell_type": "code",
      "execution_count": null,
      "id": "e144db7d",
      "metadata": {
        "id": "e144db7d",
        "outputId": "b5f301e2-cfcd-4eb4-99bf-eb315f686b3a"
      },
      "outputs": [
        {
          "name": "stdout",
          "output_type": "stream",
          "text": [
            "The sports teams in Toronto include the Toronto Maple Leafs (NHL), Toronto Raptors (NBA), Toronto Blue Jays (MLB), Toronto FC (MLS), Toronto Argonauts (CFL), Toronto Six (NWHL), Toronto Rock (National Lacrosse League), Toronto Wolfpack (Rugby Football League), and Toronto Rush (American Ultimate Disc League).\n"
          ]
        }
      ],
      "source": [
        "print(response)"
      ]
    },
    {
      "cell_type": "markdown",
      "id": "fc5b99c2-06de-4071-9314-eec75c50c5f5",
      "metadata": {
        "id": "fc5b99c2-06de-4071-9314-eec75c50c5f5"
      },
      "source": [
        "#### LLM-based Retrieval"
      ]
    },
    {
      "cell_type": "code",
      "execution_count": null,
      "id": "afd99ce8-8347-4e6e-88e4-23dd8fcb9084",
      "metadata": {
        "id": "afd99ce8-8347-4e6e-88e4-23dd8fcb9084"
      },
      "outputs": [],
      "source": [
        "from llama_index.indices.document_summary import (\n",
        "    DocumentSummaryIndexLLMRetriever,\n",
        ")"
      ]
    },
    {
      "cell_type": "code",
      "execution_count": null,
      "id": "67e397dd-fbb0-4465-994a-7527b3a6dd57",
      "metadata": {
        "id": "67e397dd-fbb0-4465-994a-7527b3a6dd57"
      },
      "outputs": [],
      "source": [
        "retriever = DocumentSummaryIndexLLMRetriever(\n",
        "    doc_summary_index,\n",
        "    # choice_select_prompt=None,\n",
        "    # choice_batch_size=10,\n",
        "    # choice_top_k=1,\n",
        "    # format_node_batch_fn=None,\n",
        "    # parse_choice_select_answer_fn=None,\n",
        "    # service_context=None\n",
        ")"
      ]
    },
    {
      "cell_type": "code",
      "execution_count": null,
      "id": "eef31654-27ea-4fb0-b29e-b18e5bf867f0",
      "metadata": {
        "id": "eef31654-27ea-4fb0-b29e-b18e5bf867f0"
      },
      "outputs": [],
      "source": [
        "retrieved_nodes = retriever.retrieve(\"What are the best selling products from Apple\")"
      ]
    },
    {
      "cell_type": "code",
      "execution_count": null,
      "id": "fe8bd1f8",
      "metadata": {
        "id": "fe8bd1f8",
        "outputId": "d9b95092-97c6-4274-89d1-8bf46dcb97a1"
      },
      "outputs": [
        {
          "name": "stdout",
          "output_type": "stream",
          "text": [
            "20\n"
          ]
        }
      ],
      "source": [
        "print(len(retrieved_nodes))"
      ]
    },
    {
      "cell_type": "code",
      "execution_count": null,
      "id": "96f76e79-1595-43b3-81e7-9ca7547fa2d1",
      "metadata": {
        "id": "96f76e79-1595-43b3-81e7-9ca7547fa2d1"
      },
      "outputs": [],
      "source": [
        "print(retrieved_nodes[0].score)\n",
        "print(retrieved_nodes[0].node.get_text())"
      ]
    },
    {
      "cell_type": "code",
      "execution_count": null,
      "id": "a215ef33-5d05-42ad-83c5-409ccc288d26",
      "metadata": {
        "id": "a215ef33-5d05-42ad-83c5-409ccc288d26"
      },
      "outputs": [],
      "source": [
        "# use retriever as part of a query engine\n",
        "from llama_index.query_engine import RetrieverQueryEngine\n",
        "\n",
        "# configure response synthesizer\n",
        "response_synthesizer = get_response_synthesizer(response_mode=\"tree_summarize\")\n",
        "\n",
        "# assemble query engine\n",
        "query_engine = RetrieverQueryEngine(\n",
        "    retriever=retriever,\n",
        "    response_synthesizer=response_synthesizer,\n",
        ")\n",
        "\n",
        "# query\n",
        "response = query_engine.query(\"What are the best selling products from Apple\")\n",
        "print(response)"
      ]
    },
    {
      "cell_type": "markdown",
      "id": "bfb24cb8-b839-4754-b653-ac40cebfe0bc",
      "metadata": {
        "id": "bfb24cb8-b839-4754-b653-ac40cebfe0bc"
      },
      "source": [
        "#### Embedding-based Retrieval"
      ]
    },
    {
      "cell_type": "code",
      "execution_count": null,
      "id": "bc47dc54-197f-43bb-9298-b2af24c6b095",
      "metadata": {
        "id": "bc47dc54-197f-43bb-9298-b2af24c6b095"
      },
      "outputs": [],
      "source": [
        "from llama_index.indices.document_summary import (\n",
        "    DocumentSummaryIndexEmbeddingRetriever,\n",
        ")"
      ]
    },
    {
      "cell_type": "code",
      "execution_count": null,
      "id": "0dcb81cb-0d36-4af8-a0c5-9061a2dce986",
      "metadata": {
        "id": "0dcb81cb-0d36-4af8-a0c5-9061a2dce986"
      },
      "outputs": [],
      "source": [
        "retriever = DocumentSummaryIndexEmbeddingRetriever(\n",
        "    doc_summary_index,\n",
        "    # similarity_top_k=1,\n",
        ")"
      ]
    },
    {
      "cell_type": "code",
      "execution_count": null,
      "id": "48934544-3dde-4231-b41c-540139378751",
      "metadata": {
        "id": "48934544-3dde-4231-b41c-540139378751"
      },
      "outputs": [],
      "source": [
        "retrieved_nodes = retriever.retrieve(\"What are the best selling products from Apple\")"
      ]
    },
    {
      "cell_type": "code",
      "execution_count": null,
      "id": "6f06e5f6-d62e-4348-8ef5-d4cb6219b54e",
      "metadata": {
        "id": "6f06e5f6-d62e-4348-8ef5-d4cb6219b54e",
        "outputId": "3d3b27b4-75f9-48f7-84f6-9ac4c37369b6"
      },
      "outputs": [
        {
          "data": {
            "text/plain": [
              "20"
            ]
          },
          "execution_count": null,
          "metadata": {},
          "output_type": "execute_result"
        }
      ],
      "source": [
        "len(retrieved_nodes)"
      ]
    },
    {
      "cell_type": "code",
      "execution_count": null,
      "id": "766a4b14",
      "metadata": {
        "id": "766a4b14"
      },
      "outputs": [],
      "source": [
        "print(retrieved_nodes[0].node.get_text())"
      ]
    },
    {
      "cell_type": "code",
      "execution_count": null,
      "id": "e8109cd4",
      "metadata": {
        "id": "e8109cd4"
      },
      "outputs": [],
      "source": [
        "# use retriever as part of a query engine\n",
        "from llama_index.query_engine import RetrieverQueryEngine\n",
        "\n",
        "# configure response synthesizer\n",
        "response_synthesizer = get_response_synthesizer(response_mode=\"tree_summarize\")\n",
        "\n",
        "# assemble query engine\n",
        "query_engine = RetrieverQueryEngine(\n",
        "    retriever=retriever,\n",
        "    response_synthesizer=response_synthesizer,\n",
        ")\n",
        "\n",
        "# query\n",
        "response = query_engine.query(\"What are the best selling products from Apple\")\n",
        "print(response)"
      ]
    }
  ],
  "metadata": {
    "kernelspec": {
      "display_name": "venv",
      "language": "python",
      "name": "python3"
    },
    "language_info": {
      "codemirror_mode": {
        "name": "ipython",
        "version": 3
      },
      "file_extension": ".py",
      "mimetype": "text/x-python",
      "name": "python",
      "nbconvert_exporter": "python",
      "pygments_lexer": "ipython3"
    },
    "colab": {
      "provenance": []
    }
  },
  "nbformat": 4,
  "nbformat_minor": 5
}